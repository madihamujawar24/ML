{
 "cells": [
  {
   "cell_type": "markdown",
   "metadata": {},
   "source": [
    "## ENCODING"
   ]
  },
  {
   "cell_type": "markdown",
   "metadata": {},
   "source": [
    "## LABEL ENCODING"
   ]
  },
  {
   "cell_type": "code",
   "execution_count": 1,
   "metadata": {},
   "outputs": [
    {
     "name": "stdout",
     "output_type": "stream",
     "text": [
      "[0, 1, 2, 1, 0]\n"
     ]
    }
   ],
   "source": [
    "# List of categories\n",
    "fruits = [\"apple\", \"banana\", \"cherry\", \"banana\", \"apple\"]\n",
    "\n",
    "# Create a dictionary for label encoding\n",
    "label_dict = {\"apple\": 0, \"banana\": 1, \"cherry\": 2}\n",
    "\n",
    "# Apply label encoding using the dictionary\n",
    "encoded_fruits = [label_dict[fruit] for fruit in fruits]\n",
    "\n",
    "# Print the encoded values\n",
    "print(encoded_fruits)"
   ]
  },
  {
   "cell_type": "markdown",
   "metadata": {},
   "source": [
    "## ONE HOT ENCODING"
   ]
  },
  {
   "cell_type": "code",
   "execution_count": 2,
   "metadata": {},
   "outputs": [
    {
     "name": "stdout",
     "output_type": "stream",
     "text": [
      "[[1, 0, 0], [0, 1, 0], [0, 0, 1], [0, 1, 0], [1, 0, 0]]\n"
     ]
    }
   ],
   "source": [
    "# List of categories\n",
    "fruits = [\"apple\", \"banana\", \"cherry\", \"banana\", \"apple\"]\n",
    "\n",
    "# Step 1: Get unique categories\n",
    "unique_fruits = sorted(set(fruits))\n",
    "\n",
    "# Step 2: Create one-hot encoding\n",
    "one_hot_encoded = []\n",
    "\n",
    "for fruit in fruits:\n",
    "    # Create a binary vector for each fruit\n",
    "    encoding = [1 if fruit == unique_fruit else 0 for unique_fruit in unique_fruits]\n",
    "    one_hot_encoded.append(encoding)\n",
    "\n",
    "# Print the one-hot encoded result\n",
    "print(one_hot_encoded)"
   ]
  },
  {
   "cell_type": "code",
   "execution_count": null,
   "metadata": {},
   "outputs": [],
   "source": []
  }
 ],
 "metadata": {
  "kernelspec": {
   "display_name": "Python 3",
   "language": "python",
   "name": "python3"
  },
  "language_info": {
   "codemirror_mode": {
    "name": "ipython",
    "version": 3
   },
   "file_extension": ".py",
   "mimetype": "text/x-python",
   "name": "python",
   "nbconvert_exporter": "python",
   "pygments_lexer": "ipython3",
   "version": "3.8.5"
  }
 },
 "nbformat": 4,
 "nbformat_minor": 4
}
