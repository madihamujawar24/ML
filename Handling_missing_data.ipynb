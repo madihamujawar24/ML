{
 "cells": [
  {
   "cell_type": "markdown",
   "metadata": {},
   "source": [
    "## Handling missing data"
   ]
  },
  {
   "cell_type": "code",
   "execution_count": 1,
   "metadata": {},
   "outputs": [],
   "source": [
    "import pandas as pd\n"
   ]
  },
  {
   "cell_type": "code",
   "execution_count": 2,
   "metadata": {},
   "outputs": [
    {
     "name": "stdout",
     "output_type": "stream",
     "text": [
      "Original Data:\n",
      "   Name   Age   Salary\n",
      "0  John  25.0  50000.0\n",
      "1  Mike  30.0      NaN\n",
      "2  Sara   NaN  60000.0\n",
      "3  None  22.0  52000.0\n"
     ]
    }
   ],
   "source": [
    "# Sample dataset\n",
    "data = {\n",
    "    'Name': ['John', 'Mike', 'Sara', None],\n",
    "    'Age': [25, 30, None, 22],\n",
    "    'Salary': [50000, None, 60000, 52000]\n",
    "}\n",
    "\n",
    "df = pd.DataFrame(data)\n",
    "print(\"Original Data:\")\n",
    "print(df)"
   ]
  },
  {
   "cell_type": "code",
   "execution_count": 3,
   "metadata": {},
   "outputs": [
    {
     "name": "stdout",
     "output_type": "stream",
     "text": [
      "\n",
      "Missing Values:\n",
      "Name      1\n",
      "Age       1\n",
      "Salary    1\n",
      "dtype: int64\n"
     ]
    }
   ],
   "source": [
    "print(\"\\nMissing Values:\")\n",
    "print(df.isnull().sum())"
   ]
  },
  {
   "cell_type": "code",
   "execution_count": 4,
   "metadata": {},
   "outputs": [
    {
     "name": "stdout",
     "output_type": "stream",
     "text": [
      "\n",
      "Data after filling missing values:\n",
      "      Name        Age   Salary\n",
      "0     John  25.000000  50000.0\n",
      "1     Mike  30.000000  52000.0\n",
      "2     Sara  25.666667  60000.0\n",
      "3  Unknown  22.000000  52000.0\n"
     ]
    }
   ],
   "source": [
    "# Fill missing 'Age' with the mean age\n",
    "df['Age'].fillna(df['Age'].mean(), inplace=True)\n",
    "\n",
    "# Fill missing 'Salary' with the median salary\n",
    "df['Salary'].fillna(df['Salary'].median(), inplace=True)\n",
    "\n",
    "# Fill missing 'Name' with 'Unknown'\n",
    "df['Name'].fillna('Unknown', inplace=True)\n",
    "\n",
    "print(\"\\nData after filling missing values:\")\n",
    "print(df)"
   ]
  },
  {
   "cell_type": "code",
   "execution_count": null,
   "metadata": {},
   "outputs": [],
   "source": []
  }
 ],
 "metadata": {
  "kernelspec": {
   "display_name": "Python 3",
   "language": "python",
   "name": "python3"
  },
  "language_info": {
   "codemirror_mode": {
    "name": "ipython",
    "version": 3
   },
   "file_extension": ".py",
   "mimetype": "text/x-python",
   "name": "python",
   "nbconvert_exporter": "python",
   "pygments_lexer": "ipython3",
   "version": "3.8.5"
  }
 },
 "nbformat": 4,
 "nbformat_minor": 4
}
