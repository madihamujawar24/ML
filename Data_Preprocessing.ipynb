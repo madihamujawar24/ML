{
 "cells": [
  {
   "cell_type": "markdown",
   "metadata": {},
   "source": [
    "## Handling Missing data"
   ]
  },
  {
   "cell_type": "code",
   "execution_count": 2,
   "metadata": {},
   "outputs": [],
   "source": [
    "import pandas as pd\n",
    "\n",
    "# Sample data\n",
    "data = {'A': [1, 2, None], 'B': [4, None, 6]}\n",
    "df = pd.DataFrame(data)\n",
    "\n",
    "# Remove rows with missing values\n",
    "df_dropped = df.dropna()\n",
    "\n",
    "# Fill missing values with mean\n",
    "df_filled = df.fillna(df.mean())"
   ]
  },
  {
   "cell_type": "markdown",
   "metadata": {},
   "source": [
    "## Encoding (one hot and labelled)"
   ]
  },
  {
   "cell_type": "code",
   "execution_count": 3,
   "metadata": {},
   "outputs": [],
   "source": [
    "# Sample data\n",
    "data = {'Color': ['Red', 'Green', 'Blue']}\n",
    "df = pd.DataFrame(data)\n",
    "\n",
    "# One-hot encoding\n",
    "df_encoded = pd.get_dummies(df, columns=['Color'], drop_first=True)"
   ]
  },
  {
   "cell_type": "markdown",
   "metadata": {},
   "source": [
    "## feature scaling\n"
   ]
  },
  {
   "cell_type": "code",
   "execution_count": 4,
   "metadata": {},
   "outputs": [],
   "source": [
    "# Sample data\n",
    "data = {'Value': [10, 12, 14, 15, 100]}\n",
    "df = pd.DataFrame(data)\n",
    "\n",
    "Q1 = df['Value'].quantile(0.25)\n",
    "Q3 = df['Value'].quantile(0.75)\n",
    "IQR = Q3 - Q1\n",
    "\n",
    "# Remove outliers\n",
    "df_no_outliers = df[(df['Value'] >= (Q1 - 1.5 * IQR)) & (df['Value'] <= (Q3 + 1.5 * IQR))]\n"
   ]
  },
  {
   "cell_type": "markdown",
   "metadata": {},
   "source": [
    "## data transformation (Log transformation)\n"
   ]
  },
  {
   "cell_type": "markdown",
   "metadata": {},
   "source": [
    "import numpy as np\n",
    "\n",
    "# Sample data\n",
    "data = {'Value': [1, 10, 100]}\n",
    "df = pd.DataFrame(data)\n",
    "\n",
    "# Log transformation\n",
    "df['Log_Value'] = np.log(df['Value'])"
   ]
  }
 ],
 "metadata": {
  "kernelspec": {
   "display_name": "Python 3",
   "language": "python",
   "name": "python3"
  },
  "language_info": {
   "codemirror_mode": {
    "name": "ipython",
    "version": 3
   },
   "file_extension": ".py",
   "mimetype": "text/x-python",
   "name": "python",
   "nbconvert_exporter": "python",
   "pygments_lexer": "ipython3",
   "version": "3.8.5"
  }
 },
 "nbformat": 4,
 "nbformat_minor": 4
}
