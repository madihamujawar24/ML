{
 "cells": [
  {
   "cell_type": "markdown",
   "metadata": {},
   "source": [
    "## DATE AND TIME HANDLING"
   ]
  },
  {
   "cell_type": "code",
   "execution_count": 1,
   "metadata": {},
   "outputs": [],
   "source": [
    "import pandas as pd\n",
    "import numpy as np"
   ]
  },
  {
   "cell_type": "code",
   "execution_count": 5,
   "metadata": {},
   "outputs": [
    {
     "name": "stdout",
     "output_type": "stream",
     "text": [
      "DatetimeIndex(['2024-01-20', '2024-01-21', '2024-01-22', '2024-01-23',\n",
      "               '2024-01-24', '2024-01-25', '2024-01-26', '2024-01-27',\n",
      "               '2024-01-28', '2024-01-29', '2024-01-30', '2024-01-31',\n",
      "               '2024-02-01', '2024-02-02', '2024-02-03', '2024-02-04',\n",
      "               '2024-02-05', '2024-02-06', '2024-02-07', '2024-02-08',\n",
      "               '2024-02-09', '2024-02-10', '2024-02-11', '2024-02-12',\n",
      "               '2024-02-13', '2024-02-14', '2024-02-15', '2024-02-16',\n",
      "               '2024-02-17', '2024-02-18', '2024-02-19', '2024-02-20',\n",
      "               '2024-02-21', '2024-02-22', '2024-02-23', '2024-02-24',\n",
      "               '2024-02-25', '2024-02-26', '2024-02-27', '2024-02-28',\n",
      "               '2024-02-29', '2024-03-01', '2024-03-02', '2024-03-03',\n",
      "               '2024-03-04', '2024-03-05', '2024-03-06', '2024-03-07',\n",
      "               '2024-03-08', '2024-03-09', '2024-03-10', '2024-03-11',\n",
      "               '2024-03-12', '2024-03-13', '2024-03-14', '2024-03-15',\n",
      "               '2024-03-16', '2024-03-17', '2024-03-18', '2024-03-19',\n",
      "               '2024-03-20', '2024-03-21', '2024-03-22', '2024-03-23',\n",
      "               '2024-03-24', '2024-03-25', '2024-03-26', '2024-03-27',\n",
      "               '2024-03-28', '2024-03-29', '2024-03-30', '2024-03-31',\n",
      "               '2024-04-01', '2024-04-02', '2024-04-03', '2024-04-04',\n",
      "               '2024-04-05', '2024-04-06', '2024-04-07', '2024-04-08',\n",
      "               '2024-04-09', '2024-04-10'],\n",
      "              dtype='datetime64[ns]', freq='D')\n"
     ]
    }
   ],
   "source": [
    "#creating data range\n",
    "date_range = pd.date_range(start='20-01-2024', end='4-10-2024',freq='D')\n",
    "print(date_range)"
   ]
  },
  {
   "cell_type": "code",
   "execution_count": 3,
   "metadata": {},
   "outputs": [
    {
     "name": "stdout",
     "output_type": "stream",
     "text": [
      "2024-01-01    69\n",
      "2024-01-02    70\n",
      "2024-01-03    39\n",
      "2024-01-04    90\n",
      "2024-01-05    90\n",
      "              ..\n",
      "2024-04-06    94\n",
      "2024-04-07    37\n",
      "2024-04-08    68\n",
      "2024-04-09    58\n",
      "2024-04-10    76\n",
      "Freq: D, Length: 101, dtype: int32\n"
     ]
    }
   ],
   "source": [
    "# Assigning random data for each date in the range\n",
    "data = np.random.randint(10, 100, size=(len(date_range)))\n",
    "\n",
    "# Creating a time series using Pandas Series\n",
    "time_series = pd.Series(data=data, index=date_range)\n",
    "print(time_series)"
   ]
  },
  {
   "cell_type": "code",
   "execution_count": 4,
   "metadata": {},
   "outputs": [
    {
     "name": "stdout",
     "output_type": "stream",
     "text": [
      "2024-01-01    17\n",
      "2024-01-02    13\n",
      "2024-01-03    46\n",
      "2024-01-04    85\n",
      "2024-01-05    87\n",
      "              ..\n",
      "2024-04-06    23\n",
      "2024-04-07    33\n",
      "2024-04-08    27\n",
      "2024-04-09    82\n",
      "2024-04-10    87\n",
      "Freq: D, Length: 101, dtype: int32\n"
     ]
    }
   ],
   "source": [
    "# Assigning random data for each date in the range\n",
    "data = np.random.randint(10, 100, size=(len(date_range)))\n",
    "\n",
    "# Creating a time series using Pandas Series\n",
    "time_series = pd.Series(data=data, index=date_range)\n",
    "print(time_series)"
   ]
  },
  {
   "cell_type": "code",
   "execution_count": null,
   "metadata": {},
   "outputs": [],
   "source": []
  },
  {
   "cell_type": "code",
   "execution_count": null,
   "metadata": {},
   "outputs": [],
   "source": []
  }
 ],
 "metadata": {
  "kernelspec": {
   "display_name": "Python 3",
   "language": "python",
   "name": "python3"
  },
  "language_info": {
   "codemirror_mode": {
    "name": "ipython",
    "version": 3
   },
   "file_extension": ".py",
   "mimetype": "text/x-python",
   "name": "python",
   "nbconvert_exporter": "python",
   "pygments_lexer": "ipython3",
   "version": "3.8.5"
  }
 },
 "nbformat": 4,
 "nbformat_minor": 4
}
